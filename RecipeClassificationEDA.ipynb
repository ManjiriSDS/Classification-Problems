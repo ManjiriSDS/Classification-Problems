{
 "cells": [
  {
   "cell_type": "markdown",
   "metadata": {},
   "source": [
    "# RecipeClassification\n"
   ]
  },
  {
   "cell_type": "markdown",
   "metadata": {},
   "source": [
    "## Identifying Which feature is best to classify Recipe Dataset"
   ]
  },
  {
   "cell_type": "markdown",
   "metadata": {},
   "source": [
    "### Importing necessary libraries"
   ]
  },
  {
   "cell_type": "markdown",
   "metadata": {},
   "source": [
    "###### The following code is written in Python 3.x. Libraries provide pre-written functionally to perform necessary tasks"
   ]
  },
  {
   "cell_type": "code",
   "execution_count": 143,
   "metadata": {},
   "outputs": [],
   "source": [
    "import pandas as pd\n",
    "import numpy as np\n",
    "import matplotlib.pyplot as plt\n",
    "import seaborn as sns\n",
    "%matplotlib inline\n",
    "plt.style.use('ggplot')\n",
    "import warnings\n",
    "warnings.filterwarnings('ignore')"
   ]
  },
  {
   "cell_type": "code",
   "execution_count": 144,
   "metadata": {},
   "outputs": [],
   "source": [
    "#reading the data\n",
    "recipe = pd.read_csv('D:/Manjiri/Internshala_Sonu/Data/recipe_classification.csv')"
   ]
  },
  {
   "cell_type": "code",
   "execution_count": 145,
   "metadata": {},
   "outputs": [
    {
     "data": {
      "text/plain": [
       "(558, 9)"
      ]
     },
     "execution_count": 145,
     "metadata": {},
     "output_type": "execute_result"
    }
   ],
   "source": [
    "#print number of rows and number of columns of data\n",
    "recipe.shape"
   ]
  },
  {
   "cell_type": "code",
   "execution_count": 146,
   "metadata": {},
   "outputs": [
    {
     "data": {
      "text/html": [
       "<div>\n",
       "<style scoped>\n",
       "    .dataframe tbody tr th:only-of-type {\n",
       "        vertical-align: middle;\n",
       "    }\n",
       "\n",
       "    .dataframe tbody tr th {\n",
       "        vertical-align: top;\n",
       "    }\n",
       "\n",
       "    .dataframe thead th {\n",
       "        text-align: right;\n",
       "    }\n",
       "</style>\n",
       "<table border=\"1\" class=\"dataframe\">\n",
       "  <thead>\n",
       "    <tr style=\"text-align: right;\">\n",
       "      <th></th>\n",
       "      <th>Unnamed: 0</th>\n",
       "      <th>Recipe_name</th>\n",
       "      <th>Category</th>\n",
       "      <th>Cuisine</th>\n",
       "      <th>Preptime</th>\n",
       "      <th>Tottime</th>\n",
       "      <th>Yield</th>\n",
       "      <th>Serving_size</th>\n",
       "      <th>Nutrition</th>\n",
       "    </tr>\n",
       "  </thead>\n",
       "  <tbody>\n",
       "    <tr>\n",
       "      <th>0</th>\n",
       "      <td>1</td>\n",
       "      <td>Banana Flambe Recipe</td>\n",
       "      <td>Dessert</td>\n",
       "      <td>European</td>\n",
       "      <td>5</td>\n",
       "      <td>10</td>\n",
       "      <td>2 Servings</td>\n",
       "      <td>1 bowl</td>\n",
       "      <td>380</td>\n",
       "    </tr>\n",
       "    <tr>\n",
       "      <th>1</th>\n",
       "      <td>4</td>\n",
       "      <td>Greek Cheese Balls Recipe</td>\n",
       "      <td>Snack</td>\n",
       "      <td>European</td>\n",
       "      <td>10</td>\n",
       "      <td>20</td>\n",
       "      <td>8 Servings</td>\n",
       "      <td>1 bowl</td>\n",
       "      <td>632</td>\n",
       "    </tr>\n",
       "    <tr>\n",
       "      <th>2</th>\n",
       "      <td>5</td>\n",
       "      <td>Banana Flambe Recipe</td>\n",
       "      <td>Dessert</td>\n",
       "      <td>European</td>\n",
       "      <td>5</td>\n",
       "      <td>10</td>\n",
       "      <td>2 Servings</td>\n",
       "      <td>1 bowl</td>\n",
       "      <td>380</td>\n",
       "    </tr>\n",
       "    <tr>\n",
       "      <th>3</th>\n",
       "      <td>8</td>\n",
       "      <td>Greek Cheese Balls Recipe</td>\n",
       "      <td>Snack</td>\n",
       "      <td>European</td>\n",
       "      <td>10</td>\n",
       "      <td>20</td>\n",
       "      <td>8 Servings</td>\n",
       "      <td>1 bowl</td>\n",
       "      <td>632</td>\n",
       "    </tr>\n",
       "    <tr>\n",
       "      <th>4</th>\n",
       "      <td>9</td>\n",
       "      <td>Misal Pav Recipe</td>\n",
       "      <td>Lunch</td>\n",
       "      <td>Indian</td>\n",
       "      <td>10</td>\n",
       "      <td>30</td>\n",
       "      <td>8 Servings</td>\n",
       "      <td>1 bowl</td>\n",
       "      <td>316</td>\n",
       "    </tr>\n",
       "    <tr>\n",
       "      <th>5</th>\n",
       "      <td>10</td>\n",
       "      <td>Oreo Cake Recipe</td>\n",
       "      <td>Dessert</td>\n",
       "      <td>European</td>\n",
       "      <td>10</td>\n",
       "      <td>15</td>\n",
       "      <td>5 Servings</td>\n",
       "      <td>1 bowl</td>\n",
       "      <td>485</td>\n",
       "    </tr>\n",
       "  </tbody>\n",
       "</table>\n",
       "</div>"
      ],
      "text/plain": [
       "   Unnamed: 0                Recipe_name Category   Cuisine  Preptime  \\\n",
       "0           1       Banana Flambe Recipe  Dessert  European         5   \n",
       "1           4  Greek Cheese Balls Recipe    Snack  European        10   \n",
       "2           5       Banana Flambe Recipe  Dessert  European         5   \n",
       "3           8  Greek Cheese Balls Recipe    Snack  European        10   \n",
       "4           9           Misal Pav Recipe    Lunch    Indian        10   \n",
       "5          10           Oreo Cake Recipe  Dessert  European        10   \n",
       "\n",
       "   Tottime       Yield Serving_size Nutrition  \n",
       "0       10  2 Servings       1 bowl       380  \n",
       "1       20  8 Servings       1 bowl       632  \n",
       "2       10  2 Servings       1 bowl       380  \n",
       "3       20  8 Servings       1 bowl       632  \n",
       "4       30  8 Servings       1 bowl       316  \n",
       "5       15  5 Servings       1 bowl       485  "
      ]
     },
     "execution_count": 146,
     "metadata": {},
     "output_type": "execute_result"
    }
   ],
   "source": [
    "#printing top 6 rows \n",
    "recipe.head(6)"
   ]
  },
  {
   "cell_type": "code",
   "execution_count": 147,
   "metadata": {},
   "outputs": [
    {
     "data": {
      "text/plain": [
       "Unnamed: 0      0\n",
       "Recipe_name     0\n",
       "Category        0\n",
       "Cuisine         0\n",
       "Preptime        0\n",
       "Tottime         0\n",
       "Yield           0\n",
       "Serving_size    0\n",
       "Nutrition       0\n",
       "dtype: int64"
      ]
     },
     "execution_count": 147,
     "metadata": {},
     "output_type": "execute_result"
    }
   ],
   "source": [
    "#Check Missing Values\n",
    "recipe.isnull().sum()"
   ]
  },
  {
   "cell_type": "code",
   "execution_count": 148,
   "metadata": {},
   "outputs": [],
   "source": [
    "#Removing one column name is'Unnamed :0'\n",
    "recipe.drop(['Unnamed: 0'], axis = 1, inplace=True)"
   ]
  },
  {
   "cell_type": "markdown",
   "metadata": {},
   "source": [
    "Here, I am removing uncessary column with drop function. The resulting dataframe will have 8 columns out of 9. The column containing 'unnamed' variable will be removed."
   ]
  },
  {
   "cell_type": "markdown",
   "metadata": {},
   "source": [
    "### Check Numeric and Categorical Features"
   ]
  },
  {
   "cell_type": "markdown",
   "metadata": {},
   "source": [
    "A dataset consists of numerical and categorical columns.\n",
    "\n",
    "Looking at the dataset, I can identify the categorical and continuous columns in it.But it might also be possible that the numerical values are represented as strings in some feature. Or the categorical values in some features might be represented as some other datatypes instead of strings. I will be going to check for the datatypes of all the features."
   ]
  },
  {
   "cell_type": "code",
   "execution_count": 149,
   "metadata": {},
   "outputs": [
    {
     "name": "stdout",
     "output_type": "stream",
     "text": [
      "Numeric Features:\n",
      "   Preptime  Tottime\n",
      "0         5       10\n",
      "1        10       20\n",
      "2         5       10\n",
      "3        10       20\n",
      "4        10       30\n",
      "============================================================\n"
     ]
    }
   ],
   "source": [
    "#Identifying Numeric Features\n",
    "numeric_data = recipe.select_dtypes(include=np.number) # select_dtypes select data with numeric features\n",
    "numeric_col = numeric_data.columns  # we will store the numeric features in a variable\n",
    "print(\"Numeric Features:\")\n",
    "print(numeric_data.head())\n",
    "print(\"===\"*20)"
   ]
  },
  {
   "cell_type": "code",
   "execution_count": 150,
   "metadata": {},
   "outputs": [
    {
     "name": "stdout",
     "output_type": "stream",
     "text": [
      "Categorical Features:\n",
      "                 Recipe_name Category   Cuisine       Yield Serving_size  \\\n",
      "0       Banana Flambe Recipe  Dessert  European  2 Servings       1 bowl   \n",
      "1  Greek Cheese Balls Recipe    Snack  European  8 Servings       1 bowl   \n",
      "2       Banana Flambe Recipe  Dessert  European  2 Servings       1 bowl   \n",
      "3  Greek Cheese Balls Recipe    Snack  European  8 Servings       1 bowl   \n",
      "4           Misal Pav Recipe    Lunch    Indian  8 Servings       1 bowl   \n",
      "\n",
      "  Nutrition  \n",
      "0       380  \n",
      "1       632  \n",
      "2       380  \n",
      "3       632  \n",
      "4       316  \n",
      "============================================================\n"
     ]
    }
   ],
   "source": [
    "#Identifying Categorical Features\n",
    "categorical_data = recipe.select_dtypes(exclude=np.number) # we will exclude data with numeric features\n",
    "categorical_col = categorical_data.columns  # we will store the categorical features in a variable\n",
    "print(\"Categorical Features:\")\n",
    "print(categorical_data.head())\n",
    "print(\"===\"*20)"
   ]
  },
  {
   "cell_type": "code",
   "execution_count": 151,
   "metadata": {},
   "outputs": [
    {
     "name": "stdout",
     "output_type": "stream",
     "text": [
      "Recipe_name     object\n",
      "Category        object\n",
      "Cuisine         object\n",
      "Preptime         int64\n",
      "Tottime          int64\n",
      "Yield           object\n",
      "Serving_size    object\n",
      "Nutrition       object\n",
      "dtype: object\n"
     ]
    }
   ],
   "source": [
    "#CHECK THE DATATYPES OF ALL COLUMNS:\n",
    "\n",
    "print(recipe.dtypes)"
   ]
  },
  {
   "cell_type": "markdown",
   "metadata": {},
   "source": [
    "### Check for Class Imabalance"
   ]
  },
  {
   "cell_type": "markdown",
   "metadata": {},
   "source": [
    "Class imbalance occurs when the observation belonging to one class in the target are significantly higher than the other class or classes.This dataset is multi-class distribution problem.\n",
    "Since most machine learning algorithms assume that the data is equally distributed, applying them on imbalance data often results in bias towards majority classes and poor classification of minority classes. Hence it's need to identify and deal with Class Imbalance."
   ]
  },
  {
   "cell_type": "code",
   "execution_count": 152,
   "metadata": {},
   "outputs": [
    {
     "name": "stdout",
     "output_type": "stream",
     "text": [
      "Indian      67.204301\n",
      "European    22.222222\n",
      "American     6.093190\n",
      "Chinese      4.480287\n",
      "Name: Cuisine, dtype: float64\n"
     ]
    }
   ],
   "source": [
    "# we are finding the percentage of each class in the feature 'Cuisine'\n",
    "class_values = (recipe['Cuisine'].value_counts()/recipe['Cuisine'].value_counts().sum())*100\n",
    "print(class_values)"
   ]
  },
  {
   "cell_type": "code",
   "execution_count": 153,
   "metadata": {},
   "outputs": [
    {
     "name": "stdout",
     "output_type": "stream",
     "text": [
      "Lunch        29.211470\n",
      "Snack        24.372760\n",
      "Dessert      22.580645\n",
      "Dinner       11.648746\n",
      "Breakfast    10.752688\n",
      "Salads        1.433692\n",
      "Name: Category, dtype: float64\n"
     ]
    }
   ],
   "source": [
    "# we are finding the percentage of each class in the feature 'Cuisine'\n",
    "class_values = (recipe['Category'].value_counts()/recipe['Category'].value_counts().sum())*100\n",
    "print(class_values)"
   ]
  },
  {
   "cell_type": "code",
   "execution_count": 154,
   "metadata": {},
   "outputs": [
    {
     "name": "stdout",
     "output_type": "stream",
     "text": [
      "4 Servings     29.032258\n",
      "2 Servings     17.025090\n",
      "6 Servings     12.186380\n",
      "8 Servings     10.035842\n",
      "5 Servings      9.856631\n",
      "3 Servings      8.422939\n",
      "10 Servings     5.913978\n",
      "1 Servings      2.329749\n",
      "7 Servings      2.150538\n",
      "12 Servings     1.075269\n",
      "20 Servings     0.896057\n",
      "9 Servings      0.358423\n",
      "15 Servings     0.358423\n",
      "80M             0.179211\n",
      "13 Servings     0.179211\n",
      "Name: Yield, dtype: float64\n"
     ]
    }
   ],
   "source": [
    "# we are finding the percentage of each class in the feature 'Cuisine'\n",
    "class_values = (recipe['Yield'].value_counts()/recipe['Yield'].value_counts().sum())*100\n",
    "print(class_values)"
   ]
  },
  {
   "cell_type": "markdown",
   "metadata": {},
   "source": [
    "#### Observations:"
   ]
  },
  {
   "cell_type": "markdown",
   "metadata": {},
   "source": [
    "The Class Distribution in 'Cuisine' feature is ~67:22:6:4 for Indian,European,American & Chinese Classes. This is clear indication of imbalance.\n",
    "The Class Distribution in 'Category' feature is ~29:24:22:11:10:1. It is quite imbalance.\n",
    "Even 'Yield' feature is also imbalanced.\n",
    "Now, I will be going to identify which feature is best suitable to classify recipe dataset."
   ]
  },
  {
   "cell_type": "markdown",
   "metadata": {},
   "source": [
    "### Univariate Analysis of Categorical Variable"
   ]
  },
  {
   "cell_type": "markdown",
   "metadata": {},
   "source": [
    "Univariate Analysis means analysis of single variable. It's mainly describe the characteristics of the variable.\n",
    "'Recipe_Name', 'Nutrition' have too many classes.This features are not suitable for classification."
   ]
  },
  {
   "cell_type": "code",
   "execution_count": 155,
   "metadata": {},
   "outputs": [
    {
     "data": {
      "text/plain": [
       "Text(0.5, 1.0, 'Recipe_Cuisine')"
      ]
     },
     "execution_count": 155,
     "metadata": {},
     "output_type": "execute_result"
    },
    {
     "data": {
      "image/png": "[encoded data removed]",
      "text/plain": [
       "<Figure size 432x288 with 1 Axes>"
      ]
     },
     "metadata": {},
     "output_type": "display_data"
    }
   ],
   "source": [
    "recipe['Cuisine'].value_counts().plot.bar()\n",
    "plt.title('Recipe_Cuisine')"
   ]
  },
  {
   "cell_type": "code",
   "execution_count": 156,
   "metadata": {},
   "outputs": [
    {
     "data": {
      "text/plain": [
       "Text(0.5, 1.0, 'Recipe_Category')"
      ]
     },
     "execution_count": 156,
     "metadata": {},
     "output_type": "execute_result"
    },
    {
     "data": {
      "image/png": "[encoded data removed]",
      "text/plain": [
       "<Figure size 432x288 with 1 Axes>"
      ]
     },
     "metadata": {},
     "output_type": "display_data"
    }
   ],
   "source": [
    "recipe['Category'].value_counts().plot.bar()\n",
    "plt.title('Recipe_Category')"
   ]
  },
  {
   "cell_type": "code",
   "execution_count": 157,
   "metadata": {},
   "outputs": [
    {
     "data": {
      "text/plain": [
       "Text(0.5, 1.0, 'Recipe_Yield')"
      ]
     },
     "execution_count": 157,
     "metadata": {},
     "output_type": "execute_result"
    },
    {
     "data": {
      "image/png": "[encoded data removed]",
      "text/plain": [
       "<Figure size 432x288 with 1 Axes>"
      ]
     },
     "metadata": {},
     "output_type": "display_data"
    }
   ],
   "source": [
    "#Creating frequency table for Categorical Variable 'Yield'\n",
    "recipe['Yield'].value_counts().plot.bar()\n",
    "plt.title('Recipe_Yield')"
   ]
  },
  {
   "cell_type": "markdown",
   "metadata": {},
   "source": [
    "#### Observations:"
   ]
  },
  {
   "cell_type": "markdown",
   "metadata": {},
   "source": [
    "From the above visuals, we can make the following observations."
   ]
  },
  {
   "cell_type": "markdown",
   "metadata": {},
   "source": [
    "Most recipes belong to Indian Cuisine.There are least Chinese recipes in a dataset."
   ]
  },
  {
   "cell_type": "markdown",
   "metadata": {},
   "source": [
    "Lunch, Snacks and Dessert recipes are more compared to dinner, breakfast and salads."
   ]
  },
  {
   "cell_type": "markdown",
   "metadata": {},
   "source": [
    "Percentage of yield 4 serving is high compared to other classes. Majority recipes will serve four number of people."
   ]
  },
  {
   "cell_type": "markdown",
   "metadata": {},
   "source": [
    "### Univariate Analysis of Continuous Variable"
   ]
  },
  {
   "cell_type": "markdown",
   "metadata": {},
   "source": [
    "By performing the univariate analysis of Continuous variable, we can get sense of the distribution values in every column and of the outlier in the data."
   ]
  },
  {
   "cell_type": "code",
   "execution_count": 158,
   "metadata": {},
   "outputs": [
    {
     "data": {
      "text/plain": [
       "Text(0.5, 1.0, 'Recipe_Preptime')"
      ]
     },
     "execution_count": 158,
     "metadata": {},
     "output_type": "execute_result"
    },
    {
     "data": {
      "image/png": "[encoded data removed]",
      "text/plain": [
       "<Figure size 1440x360 with 1 Axes>"
      ]
     },
     "metadata": {},
     "output_type": "display_data"
    }
   ],
   "source": [
    "#Plotting 'histogram' for the 'Preptime' Variable\n",
    "plt.figure(figsize=(20,5))\n",
    "plt.subplot(121)\n",
    "sns.distplot(recipe['Preptime'])\n",
    "plt.title('Recipe_Preptime')"
   ]
  },
  {
   "cell_type": "code",
   "execution_count": 159,
   "metadata": {},
   "outputs": [
    {
     "data": {
      "text/plain": [
       "Text(0.5, 1.0, 'Recipe_Tottime')"
      ]
     },
     "execution_count": 159,
     "metadata": {},
     "output_type": "execute_result"
    },
    {
     "data": {
      "image/png": "[encoded data removed]",
      "text/plain": [
       "<Figure size 1440x360 with 1 Axes>"
      ]
     },
     "metadata": {},
     "output_type": "display_data"
    }
   ],
   "source": [
    "#Plotting 'histogram' for the 'Tottime' Variable\n",
    "plt.figure(figsize=(20,5))\n",
    "plt.subplot(121)\n",
    "sns.distplot(recipe['Tottime'])\n",
    "plt.title('Recipe_Tottime')"
   ]
  },
  {
   "cell_type": "markdown",
   "metadata": {},
   "source": [
    "### Categorical - Continuous Bivariate Analysis"
   ]
  },
  {
   "cell_type": "code",
   "execution_count": 160,
   "metadata": {
    "scrolled": true
   },
   "outputs": [
    {
     "data": {
      "text/plain": [
       "Text(0.5, 1.0, 'Cuisine Vs Preptime')"
      ]
     },
     "execution_count": 160,
     "metadata": {},
     "output_type": "execute_result"
    },
    {
     "data": {
      "image/png": "[encoded data removed]",
      "text/plain": [
       "<Figure size 432x288 with 1 Axes>"
      ]
     },
     "metadata": {},
     "output_type": "display_data"
    }
   ],
   "source": [
    "recipe.groupby('Cuisine')['Preptime'].mean().plot.bar()\n",
    "plt.title('Cuisine Vs Preptime')"
   ]
  },
  {
   "cell_type": "code",
   "execution_count": 161,
   "metadata": {},
   "outputs": [
    {
     "data": {
      "text/plain": [
       "Text(0.5, 1.0, 'Category Vs Preptime')"
      ]
     },
     "execution_count": 161,
     "metadata": {},
     "output_type": "execute_result"
    },
    {
     "data": {
      "image/png": "[encoded data removed]",
      "text/plain": [
       "<Figure size 432x288 with 1 Axes>"
      ]
     },
     "metadata": {},
     "output_type": "display_data"
    }
   ],
   "source": [
    "recipe.groupby('Category')['Preptime'].mean().plot.bar()\n",
    "plt.title('Category Vs Preptime')"
   ]
  },
  {
   "cell_type": "markdown",
   "metadata": {},
   "source": [
    "#### Observations:"
   ]
  },
  {
   "cell_type": "markdown",
   "metadata": {},
   "source": [
    "More time is required to prepare American recipes. While less time is required to cook Chinese recipes.\n",
    "However, Salad recipes are really required less time to prepare while as desserts required more time."
   ]
  },
  {
   "cell_type": "code",
   "execution_count": 162,
   "metadata": {},
   "outputs": [
    {
     "data": {
      "text/plain": [
       "(array([0, 1, 2, 3, 4, 5]), <a list of 6 Text major ticklabel objects>)"
      ]
     },
     "execution_count": 162,
     "metadata": {},
     "output_type": "execute_result"
    },
    {
     "data": {
      "image/png": "[encoded data removed]",
      "text/plain": [
       "<Figure size 1440x288 with 1 Axes>"
      ]
     },
     "metadata": {},
     "output_type": "display_data"
    }
   ],
   "source": [
    "plt.figure(figsize=(20,4))\n",
    "plt.subplot(121)\n",
    "sns.countplot(x=recipe['Category'],hue=recipe['Cuisine'],data=recipe)\n",
    "plt.title('Cuisine Vs Category')    \n",
    "plt.xticks(rotation=90)"
   ]
  },
  {
   "cell_type": "markdown",
   "metadata": {},
   "source": [
    "#### Observation:"
   ]
  },
  {
   "cell_type": "markdown",
   "metadata": {},
   "source": [
    "From the above Visual understanding, there are many Lunch recipes belong to Indian Cuisine. Most of the salad recipes are Europian Cuisine."
   ]
  },
  {
   "cell_type": "markdown",
   "metadata": {},
   "source": [
    "#### Univariate Outlier Detection"
   ]
  },
  {
   "cell_type": "markdown",
   "metadata": {},
   "source": [
    "Boxplots are the best choice for visualizing outliers."
   ]
  },
  {
   "cell_type": "code",
   "execution_count": 163,
   "metadata": {},
   "outputs": [
    {
     "data": {
      "text/plain": [
       "<matplotlib.axes._subplots.AxesSubplot at 0x22b73b21220>"
      ]
     },
     "execution_count": 163,
     "metadata": {},
     "output_type": "execute_result"
    },
    {
     "data": {
      "image/png": "[encoded data removed]",
      "text/plain": [
       "<Figure size 432x288 with 1 Axes>"
      ]
     },
     "metadata": {},
     "output_type": "display_data"
    }
   ],
   "source": [
    "#Creating 'Preptime' box plot\n",
    "recipe['Preptime'].plot.box()"
   ]
  },
  {
   "cell_type": "markdown",
   "metadata": {},
   "source": [
    "#### Bivariate Outlier Detection"
   ]
  },
  {
   "cell_type": "code",
   "execution_count": 164,
   "metadata": {},
   "outputs": [
    {
     "data": {
      "text/plain": [
       "<matplotlib.axes._subplots.AxesSubplot at 0x22b7397dd60>"
      ]
     },
     "execution_count": 164,
     "metadata": {},
     "output_type": "execute_result"
    },
    {
     "data": {
      "image/png": "[encoded data removed]",
      "text/plain": [
       "<Figure size 432x288 with 1 Axes>"
      ]
     },
     "metadata": {},
     "output_type": "display_data"
    }
   ],
   "source": [
    "recipe.plot.scatter('Preptime','Tottime')"
   ]
  },
  {
   "cell_type": "markdown",
   "metadata": {},
   "source": [
    "### Removing outliers from the Dataset"
   ]
  },
  {
   "cell_type": "code",
   "execution_count": 165,
   "metadata": {},
   "outputs": [],
   "source": [
    "recipe = recipe[recipe['Preptime']<150]"
   ]
  },
  {
   "cell_type": "code",
   "execution_count": 166,
   "metadata": {},
   "outputs": [
    {
     "data": {
      "text/plain": [
       "(555, 8)"
      ]
     },
     "execution_count": 166,
     "metadata": {},
     "output_type": "execute_result"
    }
   ],
   "source": [
    "recipe.shape"
   ]
  },
  {
   "cell_type": "markdown",
   "metadata": {},
   "source": [
    "### Replacing Outliers in 'Preptime' with the mean 'Preptime'"
   ]
  },
  {
   "cell_type": "code",
   "execution_count": 167,
   "metadata": {},
   "outputs": [],
   "source": [
    "recipe.loc[recipe['Preptime']>100,'Preptime']=np.mean(recipe['Preptime'])"
   ]
  },
  {
   "cell_type": "code",
   "execution_count": 168,
   "metadata": {},
   "outputs": [
    {
     "data": {
      "text/plain": [
       "<matplotlib.axes._subplots.AxesSubplot at 0x22b738cf2b0>"
      ]
     },
     "execution_count": 168,
     "metadata": {},
     "output_type": "execute_result"
    },
    {
     "data": {
      "image/png": "[encoded data removed]",
      "text/plain": [
       "<Figure size 432x288 with 1 Axes>"
      ]
     },
     "metadata": {},
     "output_type": "display_data"
    }
   ],
   "source": [
    "recipe.plot.scatter('Preptime','Tottime')"
   ]
  },
  {
   "cell_type": "markdown",
   "metadata": {},
   "source": [
    "Here, I have completed Exploratory Data Analyis. From the observations, I found that Some features have high cardinality.\n",
    "This is Multiclass Classification Problem. Only 'Cuisine' and 'Category' feature is suitable for Classification."
   ]
  },
  {
   "cell_type": "code",
   "execution_count": null,
   "metadata": {},
   "outputs": [],
   "source": []
  }
 ],
 "metadata": {
  "kernelspec": {
   "display_name": "Python 3",
   "language": "python",
   "name": "python3"
  },
  "language_info": {
   "codemirror_mode": {
    "name": "ipython",
    "version": 3
   },
   "file_extension": ".py",
   "mimetype": "text/x-python",
   "name": "python",
   "nbconvert_exporter": "python",
   "pygments_lexer": "ipython3",
   "version": "3.8.3"
  }
 },
 "nbformat": 4,
 "nbformat_minor": 2
}
